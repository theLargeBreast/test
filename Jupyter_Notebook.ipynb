{
  "metadata": {
    "kernelspec": {
      "name": "python",
      "display_name": "Pyolite",
      "language": "python"
    },
    "language_info": {
      "codemirror_mode": {
        "name": "python",
        "version": 3
      },
      "file_extension": ".py",
      "mimetype": "text/x-python",
      "name": "python",
      "nbconvert_exporter": "python",
      "pygments_lexer": "ipython3",
      "version": "3.8"
    }
  },
  "nbformat_minor": 4,
  "nbformat": 4,
  "cells": [
    {
      "cell_type": "markdown",
      "source": "<h1>My Jupyter Notebook on IBM Watson Studio</h1>",
      "metadata": {}
    },
    {
      "cell_type": "markdown",
      "source": "<h3>Larry Hines</h3>\nIndependent Data Science Consultant",
      "metadata": {}
    },
    {
      "cell_type": "markdown",
      "source": "<i>I am interested data science because it is a fast growing field that utilizes almost all of my previous career experience and I truly enjoy the work.  For Me personally, I believe that data science is the key to finally finding what I love to do.</i>",
      "metadata": {}
    },
    {
      "cell_type": "markdown",
      "source": "<h3>The following code declares a variable that contains the output of an arithmetic operation and then prints the result contained in the variable.</h3>",
      "metadata": {}
    },
    {
      "cell_type": "code",
      "source": "result = 4*4\nprint(result)",
      "metadata": {
        "trusted": true
      },
      "execution_count": 2,
      "outputs": [
        {
          "name": "stdout",
          "text": "16\n",
          "output_type": "stream"
        }
      ]
    },
    {
      "cell_type": "markdown",
      "source": "<table>\n    <tr>\n        <th width=\"150\" style=\"text-align: center\">Name</a></th>\n        <th width=\"150\" style=\"text-align: center\">Age</th>\n        <th width=\"150\" style=\"text-align: center\">Profession</th>\n        <th width=\"150\" style=\"text-align: center\">Photo</th>\n    </tr>\n    <tr>\n        <td style=\"text-align: center\"><a href=\"https://www.fanpop.com/clubs/the-dukes-of-hazzard/images/30209167/title/uncle-jesse-duke-photo\">Jessy Duke</a></td>\n        <td style=\"text-align: center\">75</td>\n        <td style=\"text-align: center\">Gambler</td>\n        <td><img src=\"https://images5.fanpop.com/image/photos/30200000/Uncle-Jesse-Duke-the-dukes-of-hazzard-30209167-445-469.gif\"></td>\n    </tr>\n    <tr>\n        <td style=\"text-align: center\"><a href=\"https://images2.fanpop.com/image/photos/10700000/out-n-about-the-dukes-of-hazzard-10731507-408-500.jpg\">Daisy Duke</a></td>\n        <td style=\"text-align: center\">25</td>\n        <td style=\"text-align: center\">Server</td>\n        <td style=\"text-align: center\"><img src=\"https://images2.fanpop.com/image/photos/10700000/out-n-about-the-dukes-of-hazzard-10731507-408-500.jpg\"></td>\n    </tr>\n        ",
      "metadata": {}
    },
    {
      "cell_type": "code",
      "source": "",
      "metadata": {},
      "execution_count": null,
      "outputs": []
    }
  ]
}